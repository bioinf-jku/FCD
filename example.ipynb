{
 "cells": [
  {
   "cell_type": "code",
   "execution_count": 22,
   "metadata": {},
   "outputs": [],
   "source": [
    "%%capture\n",
    "!pip install fcd"
   ]
  },
  {
   "cell_type": "code",
   "execution_count": 23,
   "metadata": {},
   "outputs": [
    {
     "name": "stdout",
     "output_type": "stream",
     "text": [
      "--2024-04-01 18:53:15--  https://raw.githubusercontent.com/bioinf-jku/FCD/master/generated_smiles/LSTM_Segler.smi\n",
      "Resolving raw.githubusercontent.com (raw.githubusercontent.com)... 185.199.109.133, 185.199.108.133, 185.199.111.133, ...\n",
      "Connecting to raw.githubusercontent.com (raw.githubusercontent.com)|185.199.109.133|:443... connected.\n",
      "HTTP request sent, awaiting response... 200 OK\n",
      "Length: 22730454 (22M) [text/plain]\n",
      "Saving to: ‘generated_smiles/LSTM_Segler.smi’\n",
      "\n",
      "generated_smiles/LS 100%[===================>]  21.68M  3.07MB/s    in 7.3s    \n",
      "\n",
      "2024-04-01 18:53:22 (2.98 MB/s) - ‘generated_smiles/LSTM_Segler.smi’ saved [22730454/22730454]\n",
      "\n"
     ]
    }
   ],
   "source": [
    "!mkdir generated_smiles -p\n",
    "!wget https://raw.githubusercontent.com/bioinf-jku/FCD/master/generated_smiles/LSTM_Segler.smi -O generated_smiles/LSTM_Segler.smi"
   ]
  },
  {
   "cell_type": "code",
   "execution_count": 24,
   "metadata": {},
   "outputs": [],
   "source": [
    "import os\n",
    "from rdkit import RDLogger\n",
    "import numpy as np\n",
    "\n",
    "from fcd import get_fcd, load_ref_model, canonical_smiles, get_predictions, calculate_frechet_distance\n",
    "\n",
    "RDLogger.DisableLog(\"rdApp.*\")\n",
    "\n",
    "np.random.seed(0)\n",
    "os.environ[\"CUDA_VISIBLE_DEVICES\"] = \"0\"  # set gpu"
   ]
  },
  {
   "cell_type": "markdown",
   "metadata": {},
   "source": [
    "### Load and prepare data\n",
    "Take care when preparing data.\n",
    "- Different canonicalizations change the FCD. rdkit canonicalization should be used.\n",
    "- In case the generated \"molecules\" contain invalid SMILES, decide if you want to include them in the FCD.\n",
    "- Make sure that you respect sample sizes as the FCD varies with size."
   ]
  },
  {
   "cell_type": "code",
   "execution_count": 25,
   "metadata": {
    "ExecuteTime": {
     "end_time": "2020-04-23T09:13:50.403933Z",
     "start_time": "2020-04-23T09:13:47.310624Z"
    }
   },
   "outputs": [],
   "source": [
    "# Load chemnet model\n",
    "model = load_ref_model()\n",
    "\n",
    "# Load generated molecules\n",
    "gen_mol_file = \"generated_smiles/LSTM_Segler.smi\"  # input file which contains one generated SMILES per line\n",
    "with open(gen_mol_file) as f:\n",
    "    gen_mol = f.read().split(\"\\n\")\n",
    "\n",
    "# IMPORTANT: take at least 10000 molecules as FCD can vary with sample size\n",
    "sample1 = np.random.choice(gen_mol, 10000, replace=False)\n",
    "sample2 = np.random.choice(gen_mol, 10000, replace=False)\n",
    "\n",
    "# get canonical smiles and filter invalid ones\n",
    "can_sample1 = [w for w in canonical_smiles(sample1) if w is not None]\n",
    "can_sample2 = [w for w in canonical_smiles(sample2) if w is not None]"
   ]
  },
  {
   "cell_type": "markdown",
   "metadata": {
    "collapsed": true
   },
   "source": [
    "## Calculation of FCD"
   ]
  },
  {
   "cell_type": "code",
   "execution_count": 26,
   "metadata": {
    "ExecuteTime": {
     "end_time": "2020-04-23T09:11:27.207953Z",
     "start_time": "2020-04-23T09:11:16.921374Z"
    }
   },
   "outputs": [
    {
     "name": "stdout",
     "output_type": "stream",
     "text": [
      "FCD:  0.3298386855756661\n"
     ]
    }
   ],
   "source": [
    "# get CHEBMLNET activations of generated molecules\n",
    "act1 = get_predictions(model, can_sample1)\n",
    "act2 = get_predictions(model, can_sample2)\n",
    "\n",
    "mu1 = np.mean(act1, axis=0)\n",
    "sigma1 = np.cov(act1.T)\n",
    "\n",
    "mu2 = np.mean(act2, axis=0)\n",
    "sigma2 = np.cov(act2.T)\n",
    "\n",
    "fcd_score = calculate_frechet_distance(mu1=mu1, mu2=mu2, sigma1=sigma1, sigma2=sigma2)\n",
    "\n",
    "print(\"FCD: \", fcd_score)"
   ]
  },
  {
   "cell_type": "code",
   "execution_count": 27,
   "metadata": {
    "ExecuteTime": {
     "end_time": "2020-04-23T09:11:38.873496Z",
     "start_time": "2020-04-23T09:11:28.449608Z"
    }
   },
   "outputs": [
    {
     "name": "stdout",
     "output_type": "stream",
     "text": [
      "FCD:  0.3298386855756661\n"
     ]
    }
   ],
   "source": [
    "\"\"\"if you don't need to store the activations you can also take a shortcut.\"\"\"\n",
    "fcd_score = get_fcd(can_sample1, can_sample2, model)\n",
    "\n",
    "print(\"FCD: \", fcd_score)"
   ]
  },
  {
   "cell_type": "code",
   "execution_count": 28,
   "metadata": {
    "ExecuteTime": {
     "end_time": "2020-04-23T09:11:49.760022Z",
     "start_time": "2020-04-23T09:11:38.874694Z"
    }
   },
   "outputs": [
    {
     "name": "stdout",
     "output_type": "stream",
     "text": [
      "FCD:  25.552174526889033\n"
     ]
    }
   ],
   "source": [
    "\"\"\"This is what happens if you do not canonicalize the smiles\"\"\"\n",
    "fcd_score = get_fcd(can_sample1, sample2, model)\n",
    "print(\"FCD: \", fcd_score)"
   ]
  }
 ],
 "metadata": {
  "kernelspec": {
   "display_name": "Python 3",
   "language": "python",
   "name": "python3"
  },
  "language_info": {
   "codemirror_mode": {
    "name": "ipython",
    "version": 3
   },
   "file_extension": ".py",
   "mimetype": "text/x-python",
   "name": "python",
   "nbconvert_exporter": "python",
   "pygments_lexer": "ipython3",
   "version": "3.11.3"
  }
 },
 "nbformat": 4,
 "nbformat_minor": 1
}
